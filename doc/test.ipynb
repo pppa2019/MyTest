{
 "cells": [
  {
   "cell_type": "code",
   "execution_count": 10,
   "source": [
    "from torch import nn\r\n",
    "import torch\r\n",
    "n, d, m = 3, 5, 7\r\n",
    "embedding = nn.Embedding(n, d, max_norm=True)\r\n",
    "W = torch.randn((m, d), requires_grad=True)\r\n",
    "idx = torch.tensor([1,2])\r\n",
    "a = embedding.weight.clone() @ W.t()\r\n",
    "b = embedding(idx) @ W.t()\r\n",
    "print(a.shape, b.shape)\r\n",
    "out = (a.unsqueeze(0) + b.unsqueeze(1))\r\n",
    "loss = out.sigmoid().prod()\r\n",
    "loss.backward()\r\n",
    "print(loss.data)\r\n",
    "print(W.grad)"
   ],
   "outputs": [
    {
     "output_type": "stream",
     "name": "stdout",
     "text": [
      "torch.Size([3, 7]) torch.Size([2, 7])\n",
      "tensor(1.7957e-18)\n",
      "tensor([[ 4.4256e-19, -1.5180e-18,  5.8644e-19, -1.8316e-18, -4.7483e-18],\n",
      "        [-3.8252e-18, -9.8436e-19,  2.1487e-18,  2.6282e-18,  3.8613e-18],\n",
      "        [-2.5025e-18, -4.6517e-19,  1.8176e-18,  1.6779e-18,  2.4203e-18],\n",
      "        [-1.0514e-18, -3.7792e-18,  1.9996e-20, -1.5795e-18, -5.4740e-18],\n",
      "        [-4.2123e-18, -4.8767e-19,  2.9493e-18,  3.0836e-18,  4.8053e-18],\n",
      "        [-4.2866e-18, -1.8202e-18,  2.1530e-18,  2.5322e-18,  3.1497e-18],\n",
      "        [-1.2341e-18, -5.3755e-18, -8.5200e-19, -2.1703e-18, -7.3467e-18]])\n"
     ]
    }
   ],
   "metadata": {}
  },
  {
   "cell_type": "code",
   "execution_count": 20,
   "source": [
    "embedding = nn.Embedding(10, 3)\r\n",
    "# input = torch.FloatTensor([[0.1, 0.3, 0.2, 0.4], [0.2,0.3,0.3,0.5]])\r\n",
    "input_data = torch.randint(10, (4,2))\r\n",
    "print(input_data)\r\n",
    "print(embedding(input_data).shape)"
   ],
   "outputs": [
    {
     "output_type": "stream",
     "name": "stdout",
     "text": [
      "tensor([[5, 4],\n",
      "        [6, 0],\n",
      "        [7, 0],\n",
      "        [5, 9]])\n",
      "torch.Size([4, 2, 3])\n"
     ]
    }
   ],
   "metadata": {}
  },
  {
   "cell_type": "code",
   "execution_count": null,
   "source": [],
   "outputs": [],
   "metadata": {}
  },
  {
   "cell_type": "markdown",
   "source": [
    "### TextCNN的embedding不行！我要全部输入整数吗？ 对！必须要是整数！\r\n",
    "### 我得换一个模型，速速改bert"
   ],
   "metadata": {}
  },
  {
   "cell_type": "markdown",
   "source": [],
   "metadata": {}
  }
 ],
 "metadata": {
  "orig_nbformat": 4,
  "language_info": {
   "name": "python"
  }
 },
 "nbformat": 4,
 "nbformat_minor": 2
}