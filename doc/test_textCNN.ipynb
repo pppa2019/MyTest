{
 "cells": [
  {
   "cell_type": "code",
   "execution_count": 1,
   "metadata": {},
   "outputs": [
    {
     "name": "stdout",
     "output_type": "stream",
     "text": [
      "torch.Size([32, 299])\n",
      "torch.Size([32, 298])\n",
      "torch.Size([32, 297])\n",
      "894\n",
      "torch.Size([32, 11])\n",
      "torch.Size([32, 299])\n",
      "torch.Size([32, 298])\n",
      "torch.Size([32, 297])\n",
      "894\n",
      "torch.Size([32, 11])\n",
      "tensor([0, 5, 9, 5, 3, 5, 3, 8, 8, 3, 5, 1, 6, 7, 3, 2, 8, 7, 5, 1, 2, 9, 9, 1,\n",
      "        0, 1, 0, 7, 6, 3, 2, 0])\n",
      "0.09375\n"
     ]
    }
   ],
   "source": [
    "from TextCNN import *\r\n",
    "import torch\r\n",
    "args = {'embedding_num': 32, 'embed_dim': 300, 'class_num': 11, 'kernel_num': 1, 'kernel_size_list':(2,3,4), 'dropout':0.8}\r\n",
    "model = textCNN(args)\r\n",
    "data = torch.ones([32,300]).long()\r\n",
    "label = torch.randint(low=0, high=10, size=(32,1))\r\n",
    "optimizer = torch.optim.Adam(model.parameters(),lr=0.01)\r\n",
    "loss_function = torch.nn.CrossEntropyLoss()\r\n",
    "print(model(data).shape)\r\n",
    "print(train(model,opt=optimizer, loss_function=loss_function, X_train=data, y_train=label))"
   ]
  },
  {
   "cell_type": "code",
   "execution_count": 2,
   "metadata": {},
   "outputs": [
    {
     "name": "stdout",
     "output_type": "stream",
     "text": [
      "Help on built-in function max:\n",
      "\n",
      "max(...)\n",
      "    max(input) -> Tensor\n",
      "    \n",
      "    Returns the maximum value of all elements in the ``input`` tensor.\n",
      "    \n",
      "    .. warning::\n",
      "        This function produces deterministic (sub)gradients unlike ``max(dim=0)``\n",
      "    \n",
      "    Args:\n",
      "        input (Tensor): the input tensor.\n",
      "    \n",
      "    Example::\n",
      "    \n",
      "        >>> a = torch.randn(1, 3)\n",
      "        >>> a\n",
      "        tensor([[ 0.6763,  0.7445, -2.2369]])\n",
      "        >>> torch.max(a)\n",
      "        tensor(0.7445)\n",
      "    \n",
      "    .. function:: max(input, dim, keepdim=False, out=None) -> (Tensor, LongTensor)\n",
      "    \n",
      "    Returns a namedtuple ``(values, indices)`` where ``values`` is the maximum\n",
      "    value of each row of the :attr:`input` tensor in the given dimension\n",
      "    :attr:`dim`. And ``indices`` is the index location of each maximum value found\n",
      "    (argmax).\n",
      "    \n",
      "    .. warning::\n",
      "        ``indices`` does not necessarily contain the first occurrence of each\n",
      "        maximal value found, unless it is unique.\n",
      "        The exact implementation details are device-specific.\n",
      "        Do not expect the same result when run on CPU and GPU in general.\n",
      "        For the same reason do not expect the gradients to be deterministic.\n",
      "    \n",
      "    If ``keepdim`` is ``True``, the output tensors are of the same size\n",
      "    as ``input`` except in the dimension ``dim`` where they are of size 1.\n",
      "    Otherwise, ``dim`` is squeezed (see :func:`torch.squeeze`), resulting\n",
      "    in the output tensors having 1 fewer dimension than ``input``.\n",
      "    \n",
      "    Args:\n",
      "        input (Tensor): the input tensor.\n",
      "        dim (int): the dimension to reduce.\n",
      "        keepdim (bool): whether the output tensor has :attr:`dim` retained or not. Default: ``False``.\n",
      "        out (tuple, optional): the result tuple of two output tensors (max, max_indices)\n",
      "    \n",
      "    Example::\n",
      "    \n",
      "        >>> a = torch.randn(4, 4)\n",
      "        >>> a\n",
      "        tensor([[-1.2360, -0.2942, -0.1222,  0.8475],\n",
      "                [ 1.1949, -1.1127, -2.2379, -0.6702],\n",
      "                [ 1.5717, -0.9207,  0.1297, -1.8768],\n",
      "                [-0.6172,  1.0036, -0.6060, -0.2432]])\n",
      "        >>> torch.max(a, 1)\n",
      "        torch.return_types.max(values=tensor([0.8475, 1.1949, 1.5717, 1.0036]), indices=tensor([3, 0, 0, 1]))\n",
      "    \n",
      "    .. function:: max(input, other, out=None) -> Tensor\n",
      "    \n",
      "    Each element of the tensor ``input`` is compared with the corresponding\n",
      "    element of the tensor ``other`` and an element-wise maximum is taken.\n",
      "    \n",
      "    The shapes of ``input`` and ``other`` don't need to match,\n",
      "    but they must be :ref:`broadcastable <broadcasting-semantics>`.\n",
      "    \n",
      "    .. math::\n",
      "        \\text{out}_i = \\max(\\text{tensor}_i, \\text{other}_i)\n",
      "    \n",
      "    .. note:: When the shapes do not match, the shape of the returned output tensor\n",
      "              follows the :ref:`broadcasting rules <broadcasting-semantics>`.\n",
      "    \n",
      "    Args:\n",
      "        input (Tensor): the input tensor.\n",
      "        other (Tensor): the second input tensor\n",
      "        out (Tensor, optional): the output tensor.\n",
      "    \n",
      "    Example::\n",
      "    \n",
      "        >>> a = torch.randn(4)\n",
      "        >>> a\n",
      "        tensor([ 0.2942, -0.7416,  0.2653, -0.1584])\n",
      "        >>> b = torch.randn(4)\n",
      "        >>> b\n",
      "        tensor([ 0.8722, -1.7421, -0.4141, -0.5055])\n",
      "        >>> torch.max(a, b)\n",
      "        tensor([ 0.8722, -0.7416,  0.2653, -0.1584])\n",
      "\n"
     ]
    }
   ],
   "source": [
    "help(torch.max)"
   ]
  },
  {
   "cell_type": "code",
   "execution_count": null,
   "metadata": {},
   "outputs": [],
   "source": []
  }
 ],
 "metadata": {
  "interpreter": {
   "hash": "36b17113cd32d10b72856fd4eea68bbb1f95df32a51ef3626ecc2d32f79c7933"
  },
  "kernelspec": {
   "display_name": "Python 3.8.0 64-bit",
   "name": "python3"
  },
  "language_info": {
   "codemirror_mode": {
    "name": "ipython",
    "version": 3
   },
   "file_extension": ".py",
   "mimetype": "text/x-python",
   "name": "python",
   "nbconvert_exporter": "python",
   "pygments_lexer": "ipython3",
   "version": "3.8.0"
  },
  "orig_nbformat": 4
 },
 "nbformat": 4,
 "nbformat_minor": 2
}